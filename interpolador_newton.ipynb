{
 "cells": [
  {
   "cell_type": "code",
   "execution_count": 26,
   "metadata": {},
   "outputs": [],
   "source": [
    "import sympy as sp\n",
    "import numpy as np"
   ]
  },
  {
   "cell_type": "code",
   "execution_count": 27,
   "metadata": {},
   "outputs": [],
   "source": [
    "\"\"\"\n",
    "    Este trecho de código define a função \"interp_newton\" que recebe como entrada dois arrays, \"x\" e \"y\", que representam os pontos para interpolação. A função retorna uma outra função, \"p(z)\", \n",
    "    que é a interpolação dos pontos usando o Método de Newton. A função interp_newton começa armazenando o tamanho dos arrays \"x\" e \"y\" na variável \"n\". Em seguida, cria uma cópia dos valores de \n",
    "    \"y\" e armazena na variável \"a\". Depois, é realizado um loop de \"j\" que vai de 1 até n-1, e dentro deste loop, é realizado outro loop de \"i\" que vai de n-1 até j-1, decrementando de 1 em 1. \n",
    "    Durante o loop de \"i\", o valor da interpolação é calculado usando o Método de Newton. Por fim, a função \"p(z)\" é definida como o resultado da interpolação usando o Método de Newton, e é \n",
    "    retornada ao final da função \"interp_newton\".\n",
    "\"\"\"\n",
    "\n",
    "def interp_newton(x, y):\n",
    "    # Guarda o tamanho dos arrays x e y na variável n\n",
    "    n = len(x)\n",
    "    \n",
    "    # Cria uma cópia dos valores de y e guarda na variável a\n",
    "    a = y.copy()\n",
    "    \n",
    "    # Loop de j que vai de 1 até n-1\n",
    "    for j in range(1, n):\n",
    "        \n",
    "        # Loop de i que vai de n-1 até j-1, decrementando de 1 em 1\n",
    "        for i in range(n-1, j-1, -1):\n",
    "            \n",
    "            # Calcula o valor da interpolação usando o método de Newton\n",
    "            a[i] = (a[i] - a[i-1]) / (x[i] - x[i-j])\n",
    "\n",
    "    # Define a função p(z) como o resultado da interpolação usando o método de Newton\n",
    "    def p(z):\n",
    "        val = a[n-1]\n",
    "        for i in range(n-2, -1, -1):\n",
    "            val = val * (z - x[i]) + a[i]\n",
    "        return val\n",
    "\n",
    "    # Retorna a função p(z)\n",
    "    return p\n"
   ]
  },
  {
   "cell_type": "code",
   "execution_count": 28,
   "metadata": {},
   "outputs": [],
   "source": [
    "# Pega os pontos x e y em uma array\n",
    "x_str = input('Determine o array \"x\", adicionando os números separados por espaço: ').strip().split()\n",
    "y_str = input('Determine o array \"y\", adicionando os números separados por espaço: ').strip().split()\n",
    "\n",
    "# Estimativa que está sendo buscada\n",
    "est = input('Determine qual a estimativa que deseja alcançar: ')\n",
    "\n",
    "# Transforma os pontos de string para uma array de inteiros\n",
    "x = np.array(x_str, dtype=int)\n",
    "y = np.array(y_str, dtype=int)\n"
   ]
  },
  {
   "cell_type": "code",
   "execution_count": 29,
   "metadata": {},
   "outputs": [],
   "source": [
    "# Recebe a interpolação vinda da função\n",
    "P = interp_newton(x, y)\n",
    "\n",
    "# Cria o polinomio\n",
    "x_sym = sp.symbols('x')\n",
    "polinomio = sp.poly(P(x_sym), x_sym)"
   ]
  },
  {
   "cell_type": "code",
   "execution_count": 30,
   "metadata": {},
   "outputs": [
    {
     "name": "stdout",
     "output_type": "stream",
     "text": [
      "O polinômio interpolador de Newton é:\n"
     ]
    },
    {
     "data": {
      "text/latex": [
       "$\\displaystyle x^{2} + x - 6$"
      ],
      "text/plain": [
       "x**2 + x - 6"
      ]
     },
     "execution_count": 30,
     "metadata": {},
     "output_type": "execute_result"
    }
   ],
   "source": [
    "# Imprime o polinômio interpolador\n",
    "print(f\"O polinômio interpolador de Newton é:\")\n",
    "sp.simplify(str(polinomio.as_expr()))"
   ]
  },
  {
   "cell_type": "code",
   "execution_count": 31,
   "metadata": {},
   "outputs": [
    {
     "name": "stdout",
     "output_type": "stream",
     "text": [
      "O resultado da estimativa para o valor de f(7) é:\n"
     ]
    },
    {
     "data": {
      "text/latex": [
       "$\\displaystyle 50$"
      ],
      "text/plain": [
       "50"
      ]
     },
     "execution_count": 31,
     "metadata": {},
     "output_type": "execute_result"
    }
   ],
   "source": [
    "# Verifica a estimativa que foi pedida\n",
    "x = sp.Symbol('x')\n",
    "\n",
    "print(f\"O resultado da estimativa para o valor de f({est}) é:\")\n",
    "sp.simplify(polinomio.subs(x, est))"
   ]
  }
 ],
 "metadata": {
  "kernelspec": {
   "display_name": "Python 3",
   "language": "python",
   "name": "python3"
  },
  "language_info": {
   "codemirror_mode": {
    "name": "ipython",
    "version": 3
   },
   "file_extension": ".py",
   "mimetype": "text/x-python",
   "name": "python",
   "nbconvert_exporter": "python",
   "pygments_lexer": "ipython3",
   "version": "3.10.6"
  },
  "orig_nbformat": 4,
  "vscode": {
   "interpreter": {
    "hash": "916dbcbb3f70747c44a77c7bcd40155683ae19c65e1c03b4aa3499c5328201f1"
   }
  }
 },
 "nbformat": 4,
 "nbformat_minor": 2
}
